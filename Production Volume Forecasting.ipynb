{
 "cells": [
  {
   "cell_type": "markdown",
   "metadata": {},
   "source": [
    "## Production Volume Forecasting \n",
    "## Course: Statistical Applications and Quantitative Methods  "
   ]
  },
  {
   "cell_type": "markdown",
   "metadata": {},
   "source": [
    "### Setting - up "
   ]
  },
  {
   "cell_type": "code",
   "execution_count": 10,
   "metadata": {},
   "outputs": [],
   "source": [
    "# Suppress messages and warnings\n",
    "options(message = -1)\n",
    "options(warn = -1)\n",
    "\n",
    "# Load the libraries   \n",
    "library(tidyverse)\n",
    "library(ggplot2)\n",
    "library(gridExtra)\n",
    "library(forecast)\n",
    "library(lmtest)\n",
    "library(MLmetrics)"
   ]
  },
  {
   "cell_type": "markdown",
   "metadata": {},
   "source": [
    "### Data pre-processing: "
   ]
  },
  {
   "cell_type": "code",
   "execution_count": 2,
   "metadata": {},
   "outputs": [
    {
     "name": "stdout",
     "output_type": "stream",
     "text": [
      "Observations: 61\n",
      "Variables: 9\n",
      "$ Month            <int> 1, 2, 3, 4, 5, 6, 7, 8, 9, 10, 11, 12, 13, 14, 15,...\n",
      "$ Case.Shipments   <int> NA, NA, NA, NA, NA, NA, NA, NA, NA, NA, NA, NA, 42...\n",
      "$ Consumer.Packs   <int> 0, 0, 0, 0, 15012, 62337, 4022, 3130, 422, 0, 0, 0...\n",
      "$ CP.i.1           <int> NA, 0, 0, 0, 0, 15012, 62337, 4022, 3130, 422, 0, ...\n",
      "$ CP.i..2          <int> NA, NA, 0, 0, 0, 0, 15012, 62337, 4022, 3130, 422,...\n",
      "$ Dealer.Allowance <int> 396776, 152296, 157640, 246064, 335716, 326312, 26...\n",
      "$ DA.i.1           <int> NA, 396776, 152296, 157640, 246064, 335716, 326312...\n",
      "$ DA.i.2           <int> NA, NA, 396776, 152296, 157640, 246064, 335716, 32...\n",
      "$ Seasonal.Index   <int> 113, 98, 102, 107, 119, 104, 107, 81, 113, 97, 95,...\n"
     ]
    }
   ],
   "source": [
    "# Import Data\n",
    "treat <- read.csv(\"C:/GitHub/Production-Volume-Forecasting-Model/Harmon.csv\", header=TRUE)\n",
    "\n",
    "# Data structure\n",
    "glimpse(treat)\n",
    "\n",
    "# Rename column names\n",
    "colnames(treat) <- c(\"mo\", \"cs\",\"cp\", \"cp.1\", \"cp.2\", \"da\", \"da.1\", \"da.2\", \"si\")"
   ]
  },
  {
   "cell_type": "markdown",
   "metadata": {},
   "source": [
    "### Time-series plot:  "
   ]
  },
  {
   "cell_type": "code",
   "execution_count": 3,
   "metadata": {},
   "outputs": [
    {
     "data": {},
     "metadata": {},
     "output_type": "display_data"
    },
    {
     "data": {
      "image/png": "[encoded data removed]",
      "text/plain": [
       "plot without title"
      ]
     },
     "metadata": {},
     "output_type": "display_data"
    }
   ],
   "source": [
    "# Suppress messages and warnings\n",
    "\n",
    "# Time-Series plot \n",
    "p <- ggplot(data = treat, aes(x = mo, y = cs/1000)) \n",
    "plot1 <-  p + geom_line() + \n",
    "          geom_smooth(method = 'lm', se = FALSE)+ \n",
    "          geom_vline(xintercept = 12, linetype = \"dashed\", colour = \"steelblue\")+\n",
    "          geom_vline(xintercept = 24, linetype = \"dashed\", colour = \"steelblue\")+\n",
    "          geom_vline(xintercept = 36, linetype = \"dashed\", colour = \"steelblue\")+\n",
    "          geom_vline(xintercept = 48, linetype = \"dashed\", colour = \"steelblue\")+\n",
    "          geom_vline(xintercept = 60, linetype = \"dashed\", colour = \"steelblue\")+\n",
    "          labs(x = \"months \\n(1: Jan'83, 60: Dec'87)\", y = \"(Case Shipments)months (in '000s)\")+  \n",
    "          ggtitle(\"Case Shipments Time Series Plot\") + \n",
    "          scale_x_discrete(limits = c(1:60)) +  \n",
    "          theme_minimal() +\n",
    "          theme(plot.title = element_text(hjust = 0.5)) \n",
    "\n",
    "# Plot \n",
    "plot1"
   ]
  },
  {
   "cell_type": "markdown",
   "metadata": {},
   "source": [
    "### Regression Model: "
   ]
  },
  {
   "cell_type": "code",
   "execution_count": 4,
   "metadata": {},
   "outputs": [
    {
     "name": "stdout",
     "output_type": "stream",
     "text": [
      "Start:  AIC=1013.13\n",
      "cs ~ mo + cp + cp.1 + cp.2 + da + da.1 + da.2 + si\n",
      "\n",
      "       Df  Sum of Sq        RSS    AIC\n",
      "- cp.2  1 1.1047e+08 4.8525e+10 1011.2\n",
      "- da.1  1 6.2223e+08 4.9037e+10 1011.7\n",
      "<none>               4.8414e+10 1013.1\n",
      "- mo    1 5.6001e+09 5.4015e+10 1016.4\n",
      "- da.2  1 9.2496e+09 5.7664e+10 1019.5\n",
      "- cp.1  1 3.0240e+10 7.8654e+10 1034.4\n",
      "- cp    1 1.0267e+11 1.5109e+11 1065.8\n",
      "- si    1 1.0997e+11 1.5838e+11 1068.0\n",
      "- da    1 1.3507e+11 1.8349e+11 1075.1\n",
      "\n",
      "Step:  AIC=1011.24\n",
      "cs ~ mo + cp + cp.1 + da + da.1 + da.2 + si\n",
      "\n",
      "       Df  Sum of Sq        RSS    AIC\n",
      "- da.1  1 7.8777e+08 4.9313e+10 1010.0\n",
      "<none>               4.8525e+10 1011.2\n",
      "- mo    1 5.5419e+09 5.4067e+10 1014.4\n",
      "- da.2  1 9.3252e+09 5.7850e+10 1017.7\n",
      "- cp.1  1 3.0348e+10 7.8873e+10 1032.6\n",
      "- cp    1 1.0674e+11 1.5526e+11 1065.1\n",
      "- si    1 1.0986e+11 1.5838e+11 1066.0\n",
      "- da    1 1.3756e+11 1.8609e+11 1073.8\n",
      "\n",
      "Step:  AIC=1010.01\n",
      "cs ~ mo + cp + cp.1 + da + da.2 + si\n",
      "\n",
      "       Df  Sum of Sq        RSS    AIC\n",
      "<none>               4.9313e+10 1010.0\n",
      "- mo    1 8.4353e+09 5.7748e+10 1015.6\n",
      "- da.2  1 1.0469e+10 5.9782e+10 1017.2\n",
      "- cp.1  1 3.8682e+10 8.7994e+10 1035.8\n",
      "- cp    1 1.1215e+11 1.6147e+11 1065.0\n",
      "- si    1 1.1663e+11 1.6595e+11 1066.3\n",
      "- da    1 1.4266e+11 1.9198e+11 1073.2\n"
     ]
    },
    {
     "data": {
      "text/plain": [
       "\n",
       "Call:\n",
       "lm(formula = cs ~ mo + cp + cp.1 + da + da.2 + si, data = treat, \n",
       "    na.action = na.exclude)\n",
       "\n",
       "Residuals:\n",
       "   Min     1Q Median     3Q    Max \n",
       "-78216 -26224   3903  23364  83259 \n",
       "\n",
       "Coefficients:\n",
       "              Estimate Std. Error t value Pr(>|t|)    \n",
       "(Intercept) -9.319e+04  4.333e+04  -2.151  0.03746 *  \n",
       "mo           1.082e+03  4.088e+02   2.648  0.01143 *  \n",
       "cp           4.076e-01  4.221e-02   9.656 4.05e-12 ***\n",
       "cp.1        -2.170e-01  3.827e-02  -5.671 1.27e-06 ***\n",
       "da           6.829e-02  6.270e-03  10.891 1.13e-13 ***\n",
       "da.2        -1.786e-02  6.055e-03  -2.950  0.00523 ** \n",
       "si           3.911e+03  3.972e+02   9.847 2.30e-12 ***\n",
       "---\n",
       "Signif. codes:  0 '***' 0.001 '**' 0.01 '*' 0.05 '.' 0.1 ' ' 1\n",
       "\n",
       "Residual standard error: 34680 on 41 degrees of freedom\n",
       "  (13 observations deleted due to missingness)\n",
       "Multiple R-squared:  0.9285,\tAdjusted R-squared:  0.9181 \n",
       "F-statistic: 88.79 on 6 and 41 DF,  p-value: < 2.2e-16\n"
      ]
     },
     "metadata": {},
     "output_type": "display_data"
    }
   ],
   "source": [
    "# Monthly Sales (i.e. \"Case Shimpents\") are influenced by:  \n",
    "# Time (Month) \n",
    "# Consumer Promotions (cp) and Dealer Allowances (da) during the given month\n",
    "# Consumer Promotions and Dealer Allowances during the previous months (cp.1, cp.2, da.1 and da.2)\n",
    "# Seasonality (si)\n",
    "\n",
    "# Using step-wise regression model \n",
    "model1 <- step(lm(cs ~ mo + cp + cp.1 + cp.2 + da + da.1 + da.2 + si, data = treat, na.action = na.exclude))\n",
    "\n",
    "# Present Parameter Estimates, Coefficient of Determination, etc.\n",
    "summary(model1)"
   ]
  },
  {
   "cell_type": "markdown",
   "metadata": {},
   "source": [
    "### Conduct Durbin - Watson Test:"
   ]
  },
  {
   "cell_type": "code",
   "execution_count": 5,
   "metadata": {},
   "outputs": [
    {
     "data": {
      "text/plain": [
       "\n",
       "\tDurbin-Watson test\n",
       "\n",
       "data:  model1\n",
       "DW = 2.2986, p-value = 0.3701\n",
       "alternative hypothesis: true autocorrelation is not 0\n"
      ]
     },
     "metadata": {},
     "output_type": "display_data"
    }
   ],
   "source": [
    "# Conduct Durbin Watson Test\n",
    "dwtest(model1, order.by = NULL, alternative = c(\"two.sided\"))"
   ]
  },
  {
   "cell_type": "markdown",
   "metadata": {},
   "source": [
    "### Residuals' Plots:"
   ]
  },
  {
   "cell_type": "code",
   "execution_count": 6,
   "metadata": {},
   "outputs": [
    {
     "data": {
      "image/png": "[encoded data removed]",
      "text/plain": [
       "plot without title"
      ]
     },
     "metadata": {},
     "output_type": "display_data"
    }
   ],
   "source": [
    "# Standardized Residual\n",
    "standardized.residual <- rstandard(model1)\n",
    "predicted <- predict(model1)/1000\n",
    "mo <- treat$mo \n",
    "predicts <- as.data.frame(cbind(mo, predicted, standardized.residual))\n",
    "\n",
    "# plotting the residuals\n",
    "p_left <- ggplot(predicts, aes(predicted, standardized.residual)) + \n",
    "          geom_point(colour = \"steelblue\") + \n",
    "          geom_hline(yintercept = 2, linetype = \"dashed\", colour = \"red\")+\n",
    "          geom_hline(yintercept = -2, linetype = \"dashed\", colour = \"red\")+\n",
    "          labs(x = \"Predicted Case Shipments (in '000s)\", y = \"Standardized Residuals\")+ \n",
    "          scale_x_continuous(limits = c(0,800))+\n",
    "          theme_bw() +       \n",
    "          theme(legend.position=\"none\") \n",
    "\n",
    "\n",
    "p_right <-  ggplot(predicts, aes(mo, standardized.residual)) + \n",
    "            geom_point(colour = \"steelblue\") + \n",
    "            geom_hline(yintercept = 2, linetype = \"dashed\", colour = \"red\")+\n",
    "            geom_hline(yintercept = -2, linetype = \"dashed\", colour = \"red\")+\n",
    "            geom_vline(xintercept = 17, linetype = \"dashed\", colour = \"steelblue\")+\n",
    "            geom_text(x = 19, y = 1.0, label = \"month = 17\", color = \"darkgoldenrod4\", angle = 90) +             \n",
    "            geom_vline(xintercept = 41, linetype = \"dashed\", colour = \"steelblue\")+\n",
    "            geom_text(x = 43, y = 0, label = \"month = 41\", color = \"darkgoldenrod4\", angle = 90) +  \n",
    "            labs(x = \"months\", y = \"Standardized Residuals\")+ \n",
    "            scale_x_continuous(limits = c(0,62))+\n",
    "            theme_bw() +\n",
    "            theme(legend.position=\"none\")\n",
    "\n",
    "grid.arrange(p_left, p_right, top = \"Standardized Residulas vs. Predicted Values\",\n",
    "            layout_matrix = matrix(c(1,2), ncol=2, byrow=TRUE))"
   ]
  },
  {
   "cell_type": "markdown",
   "metadata": {},
   "source": [
    "### Time-Series plot: Predicted vs. Actual  "
   ]
  },
  {
   "cell_type": "code",
   "execution_count": 7,
   "metadata": {},
   "outputs": [
    {
     "data": {},
     "metadata": {},
     "output_type": "display_data"
    },
    {
     "data": {
      "image/png": "[encoded data removed]",
      "text/plain": [
       "plot without title"
      ]
     },
     "metadata": {},
     "output_type": "display_data"
    }
   ],
   "source": [
    "plot3 <- ggplot(treat, aes(mo)) + \n",
    "         geom_line(aes(y = cs/1000, colour = \"Actual\"), size = 1.0) + \n",
    "         geom_line(aes(y = fitted(model1)/1000, colour = \"Predicted\"), size = 1.0)+\n",
    "         labs(x = \"months \\n(1: Jan'83, 60: Dec'87)\", y = \"(Case Shipments)months (in '000s)\")+  \n",
    "         ggtitle(\"Case Shipments : Predicted vs. Actual\") + \n",
    "         scale_x_discrete(limits = c(1:60)) +  \n",
    "         theme_minimal() +\n",
    "         theme(plot.title = element_text(hjust = 0.5))+\n",
    "         theme(legend.position=\"top\") + theme(legend.title=element_blank())\n",
    "\n",
    "# Plot \n",
    "plot3"
   ]
  },
  {
   "cell_type": "markdown",
   "metadata": {},
   "source": [
    "### Mean Absolute Percentage Error: MAPE"
   ]
  },
  {
   "cell_type": "code",
   "execution_count": 8,
   "metadata": {},
   "outputs": [
    {
     "data": {
      "text/html": [
       "0.0714703542145834"
      ],
      "text/latex": [
       "0.0714703542145834"
      ],
      "text/markdown": [
       "0.0714703542145834"
      ],
      "text/plain": [
       "[1] 0.07147035"
      ]
     },
     "metadata": {},
     "output_type": "display_data"
    }
   ],
   "source": [
    "# MAPE of forecast \n",
    "actual <- treat$cs\n",
    "predicted <- fitted(model1)\n",
    "MAPE(predicted[13:60], actual[13:60])"
   ]
  },
  {
   "cell_type": "markdown",
   "metadata": {},
   "source": [
    "### Predictions: "
   ]
  },
  {
   "cell_type": "code",
   "execution_count": 9,
   "metadata": {},
   "outputs": [
    {
     "data": {
      "text/plain": [
       "  Point Forecast    Lo 80    Hi 80    Lo 95    Hi 95\n",
       "1       501189.2 452432.5 549945.9 425593.9 576784.5"
      ]
     },
     "metadata": {},
     "output_type": "display_data"
    }
   ],
   "source": [
    "## Make prediction and compute confidence interval\n",
    "n <- nrow(treat)    # number of observatons \n",
    "forecast(model1, newdata = treat[n, ])"
   ]
  },
  {
   "cell_type": "markdown",
   "metadata": {},
   "source": [
    "\n",
    "*Point Forecast* | *Lo 80*   |   *Hi 80*   |  *Lo 95*  |  *Hi 95*    \n",
    " ---------------- |  -------  |  --------   |  -------  | ---------\n",
    "     501189.2     | 452432.5  |  549945.9   |  425593.9 | 576784.5"
   ]
  }
 ],
 "metadata": {
  "kernelspec": {
   "display_name": "R",
   "language": "R",
   "name": "ir"
  },
  "language_info": {
   "codemirror_mode": "r",
   "file_extension": ".r",
   "mimetype": "text/x-r-source",
   "name": "R",
   "pygments_lexer": "r",
   "version": "3.5.1"
  }
 },
 "nbformat": 4,
 "nbformat_minor": 2
}
